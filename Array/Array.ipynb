{
  "nbformat": 4,
  "nbformat_minor": 0,
  "metadata": {
    "colab": {
      "provenance": [],
      "authorship_tag": "ABX9TyMHguRwxLVlbWUpydFn8v71",
      "include_colab_link": true
    },
    "kernelspec": {
      "name": "python3",
      "display_name": "Python 3"
    },
    "language_info": {
      "name": "python"
    }
  },
  "cells": [
    {
      "cell_type": "markdown",
      "metadata": {
        "id": "view-in-github",
        "colab_type": "text"
      },
      "source": [
        "<a href=\"https://colab.research.google.com/github/AIWalaBro/DSA_Basics/blob/main/Array/Array.ipynb\" target=\"_parent\"><img src=\"https://colab.research.google.com/assets/colab-badge.svg\" alt=\"Open In Colab\"/></a>"
      ]
    },
    {
      "cell_type": "markdown",
      "source": [
        "# Searching element in array"
      ],
      "metadata": {
        "id": "g3ltypp71LjM"
      }
    },
    {
      "cell_type": "code",
      "execution_count": 10,
      "metadata": {
        "colab": {
          "base_uri": "https://localhost:8080/"
        },
        "id": "bg408qce1EIn",
        "outputId": "0a85596d-5463-445d-e721-0056452020f3"
      },
      "outputs": [
        {
          "output_type": "stream",
          "name": "stdout",
          "text": [
            "element is found 3\n"
          ]
        }
      ],
      "source": [
        "def find_element(array, n, key):\n",
        "  for i in range(n):\n",
        "    if array[i] == key:\n",
        "      return i\n",
        "  return -1\n",
        "\n",
        "if __name__ == '__main__':\n",
        "  array = [12,13,14,18]\n",
        "  n = len(array)\n",
        "  key = 14\n",
        "\n",
        "  index = find_element(array, n, key)\n",
        "  if index != key:\n",
        "    print('element is found', str(index+1))\n",
        "  else:\n",
        "    print('element is not found')"
      ]
    },
    {
      "cell_type": "markdown",
      "source": [
        "- Time Complexity: O(N)\n",
        "- Auxiliary Space: O(1)"
      ],
      "metadata": {
        "id": "JDy_Sb8B_a9M"
      }
    },
    {
      "cell_type": "markdown",
      "source": [
        "# Insertion element in unsorted array"
      ],
      "metadata": {
        "id": "eRbqqWKa_zhu"
      }
    },
    {
      "cell_type": "code",
      "source": [
        "def insert_element(array, element):\n",
        "  array.append(element)\n",
        "\n",
        "if __name__ == '__main__':\n",
        "  array = [1,2,4,5,6,87,8]\n",
        "  element = 54\n",
        "  print('before insertion of element arraylook like:', array)\n",
        "\n",
        "  ele = insert_element(array, element)\n",
        "  print('after insertion of element array looks like:',array )"
      ],
      "metadata": {
        "colab": {
          "base_uri": "https://localhost:8080/"
        },
        "id": "ktzasjwG95jB",
        "outputId": "ae1fcf47-4884-49dc-c729-50843e34331d"
      },
      "execution_count": 12,
      "outputs": [
        {
          "output_type": "stream",
          "name": "stdout",
          "text": [
            "before insertion of element arraylook like: [1, 2, 4, 5, 6, 87, 8]\n",
            "after insertion of element array looks like: [1, 2, 4, 5, 6, 87, 8, 54]\n"
          ]
        }
      ]
    },
    {
      "cell_type": "markdown",
      "source": [
        "- Time Complexity: O(1)\n",
        "- Auxiliary Space: O(1)"
      ],
      "metadata": {
        "id": "8tOXjbkgGZzn"
      }
    },
    {
      "cell_type": "markdown",
      "source": [
        "# insert in any position"
      ],
      "metadata": {
        "id": "1SrXI9n-Fdj6"
      }
    },
    {
      "cell_type": "code",
      "source": [
        "arr = [2, 4, 1, 8, 5, -1, -1, -1, -1, -1, -1, -1, -1, -1, -1, -1]\n",
        "n = 5\n",
        "\n",
        "print(\"Before insertion : \")\n",
        "for i in range(0,n) :\n",
        "  print(arr[i],end=' ')\n",
        "\n",
        "print(\"\\n\")"
      ],
      "metadata": {
        "colab": {
          "base_uri": "https://localhost:8080/"
        },
        "id": "PFFAwdqqAqQq",
        "outputId": "e9d51191-5ec5-4750-b392-5f89213c32bc"
      },
      "execution_count": 15,
      "outputs": [
        {
          "output_type": "stream",
          "name": "stdout",
          "text": [
            "Before insertion : \n",
            "2 4 1 8 5 \n",
            "\n"
          ]
        }
      ]
    },
    {
      "cell_type": "code",
      "source": [],
      "metadata": {
        "colab": {
          "base_uri": "https://localhost:8080/"
        },
        "id": "8915i5QMF-0c",
        "outputId": "1c215cf4-2fc4-4479-a5b6-1ddb27713f20"
      },
      "execution_count": 21,
      "outputs": [
        {
          "output_type": "stream",
          "name": "stdout",
          "text": [
            "Before insertion : \n",
            "2 4 10 1 8 5 -1 -1 -1 -1 \n",
            "\n",
            "After insertion : \n",
            "2 4 10 1 8 5 -1 -1 -1 -1 -1 "
          ]
        }
      ]
    },
    {
      "cell_type": "code",
      "source": [
        "# python Program to Insert an element\n",
        "# at a specific position in an Array\n",
        "def insertElement(arr, n, x, pos) :\n",
        "\n",
        "\t# shift elements to the right\n",
        "\t# which are on the right side of pos\n",
        "\tfor i in range(n-1,pos-1,-1) :\n",
        "\t\tarr[i + 1] = arr[i]\n",
        "\n",
        "\tarr[pos] = x\n",
        "\n",
        "# Driver's code\n",
        "if __name__ == '__main__':\n",
        "\t# Declaring array and key to delete\n",
        "\t# here -1 is for empty space\n",
        "\tarr = [2, 4, 1, 8, 5, -1, -1, -1, -1, -1, -1, -1, -1, -1, -1, -1]\n",
        "\tn = 10\n",
        "\n",
        "\tprint(\"Before insertion : \")\n",
        "\tfor i in range(0,n) :\n",
        "\t\tprint(arr[i],end=' ')\n",
        "\n",
        "\tprint(\"\\n\")\n",
        "\n",
        "\tx = 365;\n",
        "\tpos = 5;\n",
        "\n",
        "\t# Function call\n",
        "\tinsertElement(arr, n, x, pos);\n",
        "\tn+=1\n",
        "\n",
        "\tprint(\"After insertion : \")\n",
        "\tfor i in range(0,n) :\n",
        "\t\tprint(arr[i],end=' ')\n",
        "\n",
        "#This Code is contributed by aditya942003patil\n"
      ],
      "metadata": {
        "colab": {
          "base_uri": "https://localhost:8080/"
        },
        "id": "hO4UpDloKYbA",
        "outputId": "3f3c33f4-1322-49dd-8622-b99b5013be60"
      },
      "execution_count": 22,
      "outputs": [
        {
          "output_type": "stream",
          "name": "stdout",
          "text": [
            "Before insertion : \n",
            "2 4 1 8 5 -1 -1 -1 -1 -1 \n",
            "\n",
            "After insertion : \n",
            "2 4 1 8 5 365 -1 -1 -1 -1 -1 "
          ]
        }
      ]
    },
    {
      "cell_type": "markdown",
      "source": [
        "- Time complexity: O(N)\n",
        "- Auxiliary Space: O(1)"
      ],
      "metadata": {
        "id": "N-tU2S-ljcag"
      }
    },
    {
      "cell_type": "markdown",
      "source": [
        "# Delete key in unsorted array"
      ],
      "metadata": {
        "id": "PaqdXdxUj56G"
      }
    },
    {
      "cell_type": "code",
      "source": [
        "def delete__key(array, key):\n",
        "  for i in array:\n",
        "    if i != key:\n",
        "      return i\n",
        "array = [1,2,3,4,5,6]\n",
        "key = 5\n",
        "\n",
        "# fucntion call\n",
        "if __name__ == '__main__':\n",
        "  array = delete_key(array, key)\n",
        "  print('array after removal', array)"
      ],
      "metadata": {
        "colab": {
          "base_uri": "https://localhost:8080/"
        },
        "id": "KWWD70Nxmz_E",
        "outputId": "90f681e9-afb5-4b3b-8874-3d1d86a45ad4"
      },
      "execution_count": 11,
      "outputs": [
        {
          "output_type": "stream",
          "name": "stdout",
          "text": [
            "array after removal [1, 2, 3, 4, 6]\n"
          ]
        }
      ]
    },
    {
      "cell_type": "markdown",
      "source": [
        "- Time Complexity: O(N)\n",
        "- Auxiliary Space: O(1)"
      ],
      "metadata": {
        "id": "JfEJi7UcniAg"
      }
    },
    {
      "cell_type": "code",
      "source": [],
      "metadata": {
        "id": "FOcaRWq0nPdq"
      },
      "execution_count": null,
      "outputs": []
    }
  ]
}